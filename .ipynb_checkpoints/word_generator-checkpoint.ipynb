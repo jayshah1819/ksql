{
 "cells": [
  {
   "cell_type": "code",
   "execution_count": 1,
   "id": "489ec2d8-68c9-46bb-a22d-d945d68e372d",
   "metadata": {},
   "outputs": [],
   "source": [
    "import tensorflow as tf"
   ]
  },
  {
   "cell_type": "code",
   "execution_count": 3,
   "id": "19d3fccf-01ea-4be8-bc0b-a3691d70fa83",
   "metadata": {},
   "outputs": [],
   "source": [
    "mnist= tf.keras.datasets.mnist"
   ]
  },
  {
   "cell_type": "code",
   "execution_count": 4,
   "id": "6e30f29f-845f-4080-b3cc-36c7b0ab1ca8",
   "metadata": {},
   "outputs": [
    {
     "name": "stdout",
     "output_type": "stream",
     "text": [
      "Downloading data from https://storage.googleapis.com/tensorflow/tf-keras-datasets/mnist.npz\n",
      "11490434/11490434 [==============================] - 1s 0us/step\n"
     ]
    }
   ],
   "source": [
    "(x_train,ytrain),(x_test,y_test)=mnist.load_data()"
   ]
  },
  {
   "cell_type": "code",
   "execution_count": 6,
   "id": "c54c09bc-6b70-4fd4-a4de-883544c345e9",
   "metadata": {},
   "outputs": [
    {
     "name": "stdout",
     "output_type": "stream",
     "text": [
      "Collecting matplotlib\n",
      "  Using cached matplotlib-3.8.2-cp311-cp311-macosx_11_0_arm64.whl.metadata (5.8 kB)\n",
      "Collecting contourpy>=1.0.1 (from matplotlib)\n",
      "  Using cached contourpy-1.2.0-cp311-cp311-macosx_11_0_arm64.whl.metadata (5.8 kB)\n",
      "Collecting cycler>=0.10 (from matplotlib)\n",
      "  Using cached cycler-0.12.1-py3-none-any.whl.metadata (3.8 kB)\n",
      "Collecting fonttools>=4.22.0 (from matplotlib)\n",
      "  Downloading fonttools-4.47.2-cp311-cp311-macosx_10_9_universal2.whl.metadata (157 kB)\n",
      "\u001b[2K     \u001b[90m━━━━━━━━━━━━━━━━━━━━━━━━━━━━━━━━━━━━━━━\u001b[0m \u001b[32m157.6/157.6 kB\u001b[0m \u001b[31m1.5 MB/s\u001b[0m eta \u001b[36m0:00:00\u001b[0m00:01\u001b[0m00:01\u001b[0m\n",
      "\u001b[?25hCollecting kiwisolver>=1.3.1 (from matplotlib)\n",
      "  Using cached kiwisolver-1.4.5-cp311-cp311-macosx_11_0_arm64.whl.metadata (6.4 kB)\n",
      "Requirement already satisfied: numpy<2,>=1.21 in /Applications/anaconda3/envs/tensorflow_env/lib/python3.11/site-packages (from matplotlib) (1.26.3)\n",
      "Requirement already satisfied: packaging>=20.0 in /Applications/anaconda3/envs/tensorflow_env/lib/python3.11/site-packages (from matplotlib) (23.2)\n",
      "Collecting pillow>=8 (from matplotlib)\n",
      "  Downloading pillow-10.2.0-cp311-cp311-macosx_11_0_arm64.whl.metadata (9.7 kB)\n",
      "Collecting pyparsing>=2.3.1 (from matplotlib)\n",
      "  Using cached pyparsing-3.1.1-py3-none-any.whl.metadata (5.1 kB)\n",
      "Requirement already satisfied: python-dateutil>=2.7 in /Applications/anaconda3/envs/tensorflow_env/lib/python3.11/site-packages (from matplotlib) (2.8.2)\n",
      "Requirement already satisfied: six>=1.5 in /Applications/anaconda3/envs/tensorflow_env/lib/python3.11/site-packages (from python-dateutil>=2.7->matplotlib) (1.16.0)\n",
      "Using cached matplotlib-3.8.2-cp311-cp311-macosx_11_0_arm64.whl (7.5 MB)\n",
      "Using cached contourpy-1.2.0-cp311-cp311-macosx_11_0_arm64.whl (243 kB)\n",
      "Using cached cycler-0.12.1-py3-none-any.whl (8.3 kB)\n",
      "Downloading fonttools-4.47.2-cp311-cp311-macosx_10_9_universal2.whl (2.8 MB)\n",
      "\u001b[2K   \u001b[90m━━━━━━━━━━━━━━━━━━━━━━━━━━━━━━━━━━━━━━━━\u001b[0m \u001b[32m2.8/2.8 MB\u001b[0m \u001b[31m15.8 MB/s\u001b[0m eta \u001b[36m0:00:00\u001b[0ma \u001b[36m0:00:01\u001b[0m\n",
      "\u001b[?25hUsing cached kiwisolver-1.4.5-cp311-cp311-macosx_11_0_arm64.whl (66 kB)\n",
      "Downloading pillow-10.2.0-cp311-cp311-macosx_11_0_arm64.whl (3.3 MB)\n",
      "\u001b[2K   \u001b[90m━━━━━━━━━━━━━━━━━━━━━━━━━━━━━━━━━━━━━━━━\u001b[0m \u001b[32m3.3/3.3 MB\u001b[0m \u001b[31m22.0 MB/s\u001b[0m eta \u001b[36m0:00:00\u001b[0ma \u001b[36m0:00:01\u001b[0m\n",
      "\u001b[?25hUsing cached pyparsing-3.1.1-py3-none-any.whl (103 kB)\n",
      "Installing collected packages: pyparsing, pillow, kiwisolver, fonttools, cycler, contourpy, matplotlib\n",
      "Successfully installed contourpy-1.2.0 cycler-0.12.1 fonttools-4.47.2 kiwisolver-1.4.5 matplotlib-3.8.2 pillow-10.2.0 pyparsing-3.1.1\n",
      "Note: you may need to restart the kernel to use updated packages.\n"
     ]
    }
   ],
   "source": [
    "pip install matplotlib"
   ]
  },
  {
   "cell_type": "code",
   "execution_count": 7,
   "id": "05f17477-2c18-43ab-b56f-77124f32af04",
   "metadata": {},
   "outputs": [],
   "source": [
    "import matplotlib as plt "
   ]
  },
  {
   "cell_type": "code",
   "execution_count": 64,
   "id": "12eb67e0-db3d-4c0e-b9f7-339cb10039c8",
   "metadata": {},
   "outputs": [],
   "source": [
    "x_train=tf.keras.utils.normalize(x_train,axis=1)\n",
    "x_test=tf.keras.utils.normalize(x_test,axis=1)"
   ]
  },
  {
   "cell_type": "code",
   "execution_count": 36,
   "id": "bd693fec-3999-4ec4-84b1-2027dddd4bf3",
   "metadata": {},
   "outputs": [
    {
     "name": "stdout",
     "output_type": "stream",
     "text": [
      "Epoch 1/10\n",
      "1875/1875 [==============================] - 1s 714us/step - loss: 0.2693 - accuracy: 0.9213\n",
      "Epoch 2/10\n",
      "1875/1875 [==============================] - 1s 749us/step - loss: 0.1090 - accuracy: 0.9657\n",
      "Epoch 3/10\n",
      "1875/1875 [==============================] - 1s 708us/step - loss: 0.0739 - accuracy: 0.9766\n",
      "Epoch 4/10\n",
      "1875/1875 [==============================] - 1s 718us/step - loss: 0.0553 - accuracy: 0.9820\n",
      "Epoch 5/10\n",
      "1875/1875 [==============================] - 1s 735us/step - loss: 0.0426 - accuracy: 0.9862\n",
      "Epoch 6/10\n",
      "1875/1875 [==============================] - 1s 760us/step - loss: 0.0315 - accuracy: 0.9897\n",
      "Epoch 7/10\n",
      "1875/1875 [==============================] - 1s 732us/step - loss: 0.0262 - accuracy: 0.9910\n",
      "Epoch 8/10\n",
      "1875/1875 [==============================] - 1s 714us/step - loss: 0.0199 - accuracy: 0.9936\n",
      "Epoch 9/10\n",
      "1875/1875 [==============================] - 1s 726us/step - loss: 0.0177 - accuracy: 0.9940\n",
      "Epoch 10/10\n",
      "1875/1875 [==============================] - 1s 745us/step - loss: 0.0163 - accuracy: 0.9944\n"
     ]
    },
    {
     "data": {
      "text/plain": [
       "<keras.src.callbacks.History at 0x158c497d0>"
      ]
     },
     "execution_count": 36,
     "metadata": {},
     "output_type": "execute_result"
    }
   ],
   "source": [
    "model= tf.keras.models.Sequential()\n",
    "model.add(tf.keras.layers.Flatten())\n",
    "model.add(tf.keras.layers.Dense(128,activation=tf.nn.relu))\n",
    "model.add(tf.keras.layers.Dense(128,activation=tf.nn.relu))\n",
    "model.add(tf.keras.layers.Dense(10,activation=tf.nn.softmax))\n",
    "\n",
    "model.compile(optimizer='adam', loss='sparse_categorical_crossentropy', metrics=['accuracy'])\n",
    "\n",
    "model.fit(x_train,y_train, epochs=10)"
   ]
  },
  {
   "cell_type": "code",
   "execution_count": 38,
   "id": "30d8f8c2-a655-4be9-84c2-e20116b759ce",
   "metadata": {},
   "outputs": [],
   "source": [
    "#normalize\n",
    "x_train=tf.keras.utils.normalize(x_train,axis=1)\n",
    "x_test=tf.keras.utils.normalize(x_test, axis=1)"
   ]
  },
  {
   "cell_type": "code",
   "execution_count": 39,
   "id": "e5157b54-e71f-4f9b-8067-9a151505b2a0",
   "metadata": {},
   "outputs": [],
   "source": [
    "x_train=tf.keras.utils.normalize(x_train,axis=1)"
   ]
  },
  {
   "cell_type": "code",
   "execution_count": 40,
   "id": "7b9799cc-e4b4-43dc-a8cf-3535c61fbfac",
   "metadata": {},
   "outputs": [],
   "source": [
    "x_test=tf.keras.utils.normalize(x_test,axis=1)"
   ]
  },
  {
   "cell_type": "code",
   "execution_count": 50,
   "id": "f53453c3-b06d-49a0-9520-52ab9b2534e4",
   "metadata": {},
   "outputs": [
    {
     "name": "stdout",
     "output_type": "stream",
     "text": [
      "Epoch 1/3\n",
      "1875/1875 [==============================] - 2s 918us/step - loss: 0.2471 - accuracy: 0.9233\n",
      "Epoch 2/3\n",
      "1875/1875 [==============================] - 2s 878us/step - loss: 0.1020 - accuracy: 0.9683\n",
      "Epoch 3/3\n",
      "1875/1875 [==============================] - 2s 924us/step - loss: 0.0718 - accuracy: 0.9768\n"
     ]
    },
    {
     "data": {
      "text/plain": [
       "<keras.src.callbacks.History at 0x15943cb50>"
      ]
     },
     "execution_count": 50,
     "metadata": {},
     "output_type": "execute_result"
    }
   ],
   "source": [
    "model=tf.keras.models.Sequential()\n",
    "model.add(tf.keras.layers.Flatten())\n",
    "model.add(tf.keras.layers.Dense(128,activation=tf.nn.relu))\n",
    "model.add(tf.keras.layers.Dense(128,activation=tf.nn.relu))\n",
    "model.add(tf.keras.layers.Dense(128,activation=tf.nn.relu))\n",
    "model.add(tf.keras.layers.Dense(10,activation=tf.nn.softmax))\n",
    "\n",
    "\n",
    "model.compile(optimizer='adam', loss='sparse_categorical_crossentropy', metrics=['accuracy'])\n",
    "model.fit(x_train,y_train,epochs=3)"
   ]
  },
  {
   "cell_type": "code",
   "execution_count": 51,
   "id": "1997216d-2a66-4bb4-9045-573e434b37fa",
   "metadata": {},
   "outputs": [
    {
     "name": "stdout",
     "output_type": "stream",
     "text": [
      "313/313 [==============================] - 0s 466us/step - loss: 0.0987 - accuracy: 0.9692\n"
     ]
    }
   ],
   "source": [
    "val_loss,val_accuracy=model.evaluate(x_test,y_test)"
   ]
  },
  {
   "cell_type": "code",
   "execution_count": 53,
   "id": "6231bca4-028d-403e-9480-54706ad8142d",
   "metadata": {},
   "outputs": [
    {
     "name": "stdout",
     "output_type": "stream",
     "text": [
      "INFO:tensorflow:Assets written to: num_model/assets\n"
     ]
    },
    {
     "name": "stderr",
     "output_type": "stream",
     "text": [
      "INFO:tensorflow:Assets written to: num_model/assets\n"
     ]
    }
   ],
   "source": [
    "model.save('num_model')"
   ]
  },
  {
   "cell_type": "code",
   "execution_count": 55,
   "id": "a0521f15-cb9d-4cd2-90e5-d6032926ee86",
   "metadata": {},
   "outputs": [],
   "source": [
    "new_model=tf.keras.models.load_model('num_model')"
   ]
  },
  {
   "cell_type": "code",
   "execution_count": 58,
   "id": "d78a4105-e5b4-4bae-9aae-276f60f621d3",
   "metadata": {},
   "outputs": [
    {
     "name": "stdout",
     "output_type": "stream",
     "text": [
      "313/313 [==============================] - 0s 433us/step\n"
     ]
    }
   ],
   "source": [
    "predictions= new_model.predict([x_test])"
   ]
  },
  {
   "cell_type": "code",
   "execution_count": 59,
   "id": "a9d054c6-8f3d-4e66-a0cf-6ccd6bdd802c",
   "metadata": {},
   "outputs": [
    {
     "name": "stdout",
     "output_type": "stream",
     "text": [
      "[[1.3259191e-08 2.7669760e-08 8.5631173e-06 ... 9.9997687e-01\n",
      "  9.7605465e-08 1.1518539e-05]\n",
      " [3.3719014e-10 7.0792777e-07 9.9999917e-01 ... 1.8340318e-08\n",
      "  1.0657813e-08 1.1851170e-10]\n",
      " [7.2825424e-07 9.9954659e-01 1.6753458e-05 ... 2.0265868e-05\n",
      "  1.4902746e-04 4.9281812e-06]\n",
      " ...\n",
      " [3.9344208e-08 1.0155736e-06 1.8952435e-06 ... 3.7377599e-06\n",
      "  4.2726474e-06 2.6140822e-06]\n",
      " [1.1768172e-05 3.8673275e-06 1.1290492e-06 ... 1.9612087e-06\n",
      "  4.4331648e-03 1.7025378e-07]\n",
      " [2.3031255e-07 7.2194929e-08 2.5691961e-08 ... 7.7227738e-11\n",
      "  8.9796515e-07 1.3704416e-08]]\n"
     ]
    }
   ],
   "source": [
    "print(predictions)"
   ]
  },
  {
   "cell_type": "code",
   "execution_count": 60,
   "id": "d9f259f9-c184-45f7-b9f9-d1221bca3eee",
   "metadata": {},
   "outputs": [],
   "source": [
    "import numpy as np"
   ]
  },
  {
   "cell_type": "code",
   "execution_count": 61,
   "id": "03905ee2-0ad2-41e7-8a3b-9715dba36f27",
   "metadata": {},
   "outputs": [
    {
     "name": "stdout",
     "output_type": "stream",
     "text": [
      "7\n"
     ]
    }
   ],
   "source": [
    "print(np.argmax(predictions[0]))"
   ]
  },
  {
   "cell_type": "code",
   "execution_count": 63,
   "id": "b22c05e3-957c-477d-b564-e737d439cc69",
   "metadata": {},
   "outputs": [
    {
     "data": {
      "image/png": "[encoded data removed]",
      "text/plain": [
       "<Figure size 640x480 with 1 Axes>"
      ]
     },
     "metadata": {},
     "output_type": "display_data"
    }
   ],
   "source": [
    "plt.imshow(x_test[0])\n",
    "plt.show()"
   ]
  },
  {
   "cell_type": "code",
   "execution_count": null,
   "id": "2c6a0e10-2378-4c6d-8d21-ce0b609e1648",
   "metadata": {},
   "outputs": [],
   "source": []
  }
 ],
 "metadata": {
  "kernelspec": {
   "display_name": "Python 3 (ipykernel)",
   "language": "python",
   "name": "python3"
  },
  "language_info": {
   "codemirror_mode": {
    "name": "ipython",
    "version": 3
   },
   "file_extension": ".py",
   "mimetype": "text/x-python",
   "name": "python",
   "nbconvert_exporter": "python",
   "pygments_lexer": "ipython3",
   "version": "3.11.7"
  }
 },
 "nbformat": 4,
 "nbformat_minor": 5
}
